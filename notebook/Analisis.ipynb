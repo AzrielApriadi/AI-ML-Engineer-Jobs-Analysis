{
 "cells": [
  {
   "cell_type": "markdown",
   "id": "aa7fa256",
   "metadata": {},
   "source": [
    "# Analisis Data Pekerjaan AI/ML Engineer di Indonesia 2025"
   ]
  },
  {
   "cell_type": "code",
   "execution_count": null,
   "id": "fc065b80",
   "metadata": {},
   "outputs": [],
   "source": []
  }
 ],
 "metadata": {
  "kernelspec": {
   "display_name": "analitik",
   "language": "python",
   "name": "python3"
  },
  "language_info": {
   "name": "python",
   "version": "3.12.8"
  }
 },
 "nbformat": 4,
 "nbformat_minor": 5
}
